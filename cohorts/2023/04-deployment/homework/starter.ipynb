{
 "cells": [
  {
   "cell_type": "code",
   "execution_count": 1,
   "id": "2c51efaa",
   "metadata": {
    "ExecuteTime": {
     "end_time": "2023-06-28T16:57:28.321781Z",
     "start_time": "2023-06-28T16:57:24.706638Z"
    }
   },
   "outputs": [],
   "source": [
    "!pip freeze | grep scikit-learn"
   ]
  },
  {
   "cell_type": "code",
   "execution_count": 2,
   "id": "0ef880a0",
   "metadata": {
    "ExecuteTime": {
     "end_time": "2023-06-28T16:57:32.750686Z",
     "start_time": "2023-06-28T16:57:28.327109Z"
    }
   },
   "outputs": [],
   "source": [
    "import pathlib\n",
    "\n",
    "import pickle\n",
    "import pandas as pd"
   ]
  },
  {
   "cell_type": "code",
   "execution_count": 3,
   "id": "7836ccfd",
   "metadata": {
    "ExecuteTime": {
     "end_time": "2023-06-28T16:57:39.028584Z",
     "start_time": "2023-06-28T16:57:32.754125Z"
    }
   },
   "outputs": [],
   "source": [
    "with open('model.bin', 'rb') as f_in:\n",
    "    dv, model = pickle.load(f_in)"
   ]
  },
  {
   "cell_type": "code",
   "execution_count": 4,
   "id": "41c08294",
   "metadata": {
    "ExecuteTime": {
     "end_time": "2023-06-28T16:57:39.039976Z",
     "start_time": "2023-06-28T16:57:39.030563Z"
    }
   },
   "outputs": [],
   "source": [
    "categorical = ['PULocationID', 'DOLocationID']\n",
    "\n",
    "def read_data(filename):\n",
    "    df = pd.read_parquet(filename)\n",
    "    \n",
    "    df['duration'] = df.tpep_dropoff_datetime - df.tpep_pickup_datetime\n",
    "    df['duration'] = df.duration.dt.total_seconds() / 60\n",
    "\n",
    "    df = df[(df.duration >= 1) & (df.duration <= 60)].copy()\n",
    "\n",
    "    df[categorical] = df[categorical].fillna(-1).astype('int').astype('str')\n",
    "    \n",
    "    return df"
   ]
  },
  {
   "cell_type": "code",
   "execution_count": 5,
   "id": "4854399a",
   "metadata": {
    "ExecuteTime": {
     "end_time": "2023-06-28T16:57:59.699782Z",
     "start_time": "2023-06-28T16:57:39.058615Z"
    }
   },
   "outputs": [],
   "source": [
    "year = 2022\n",
    "month = 2\n",
    "\n",
    "df = read_data(f'https://d37ci6vzurychx.cloudfront.net/trip-data/yellow_tripdata_{year:04d}-{month:02d}.parquet')"
   ]
  },
  {
   "cell_type": "code",
   "execution_count": 6,
   "id": "669fda0a",
   "metadata": {
    "ExecuteTime": {
     "end_time": "2023-06-28T16:58:15.482826Z",
     "start_time": "2023-06-28T16:57:59.702029Z"
    }
   },
   "outputs": [],
   "source": [
    "dicts = df[categorical].to_dict(orient='records')\n",
    "X_val = dv.transform(dicts)\n",
    "y_pred = model.predict(X_val)"
   ]
  },
  {
   "cell_type": "code",
   "execution_count": 7,
   "id": "63d0253a",
   "metadata": {
    "ExecuteTime": {
     "end_time": "2023-06-28T16:58:15.512870Z",
     "start_time": "2023-06-28T16:58:15.485037Z"
    }
   },
   "outputs": [
    {
     "data": {
      "text/plain": [
       "5.28140357655334"
      ]
     },
     "execution_count": 7,
     "metadata": {},
     "output_type": "execute_result"
    }
   ],
   "source": [
    "y_pred.std()"
   ]
  },
  {
   "cell_type": "code",
   "execution_count": 8,
   "id": "dd95d4f5",
   "metadata": {
    "ExecuteTime": {
     "end_time": "2023-06-28T16:58:17.757474Z",
     "start_time": "2023-06-28T16:58:15.515357Z"
    }
   },
   "outputs": [],
   "source": [
    "df['ride_id'] = f'{year:04d}/{month:02d}_' + df.index.astype('str')"
   ]
  },
  {
   "cell_type": "code",
   "execution_count": 9,
   "id": "823499ff",
   "metadata": {
    "ExecuteTime": {
     "end_time": "2023-06-28T16:58:17.767713Z",
     "start_time": "2023-06-28T16:58:17.760339Z"
    }
   },
   "outputs": [],
   "source": [
    "df_result = pd.DataFrame()"
   ]
  },
  {
   "cell_type": "code",
   "execution_count": 10,
   "id": "c70b7a0d",
   "metadata": {
    "ExecuteTime": {
     "end_time": "2023-06-28T16:58:17.942713Z",
     "start_time": "2023-06-28T16:58:17.771503Z"
    }
   },
   "outputs": [],
   "source": [
    "df_result[\"ride_id\"] = df[\"ride_id\"]\n",
    "df_result[\"predicted_duration\"] = y_pred"
   ]
  },
  {
   "cell_type": "code",
   "execution_count": 11,
   "id": "f3ee16a6",
   "metadata": {
    "ExecuteTime": {
     "end_time": "2023-06-28T16:58:17.951194Z",
     "start_time": "2023-06-28T16:58:17.945808Z"
    }
   },
   "outputs": [],
   "source": [
    "output_dir = \"output/yellow\"\n",
    "output_file = f\"./{output_dir}/{year:04d}-{month:02d}.parquet\"\n",
    "\n",
    "pathlib.Path(output_dir).mkdir(parents=True, exist_ok=True)"
   ]
  },
  {
   "cell_type": "code",
   "execution_count": 12,
   "id": "0e6c3b8b",
   "metadata": {
    "ExecuteTime": {
     "end_time": "2023-06-28T16:58:18.506251Z",
     "start_time": "2023-06-28T16:58:17.955245Z"
    }
   },
   "outputs": [],
   "source": [
    "df_result.to_parquet(\n",
    "    output_file,\n",
    "    engine='pyarrow',\n",
    "    compression=None,\n",
    "    index=False\n",
    ")"
   ]
  },
  {
   "cell_type": "code",
   "execution_count": 13,
   "id": "49de8417",
   "metadata": {
    "ExecuteTime": {
     "end_time": "2023-06-28T16:58:18.515358Z",
     "start_time": "2023-06-28T16:58:18.508499Z"
    }
   },
   "outputs": [
    {
     "data": {
      "text/plain": [
       "57.2156286239624"
      ]
     },
     "execution_count": 13,
     "metadata": {},
     "output_type": "execute_result"
    }
   ],
   "source": [
    "pathlib.Path(output_file).stat().st_size / 1024 / 1024"
   ]
  },
  {
   "cell_type": "code",
   "execution_count": null,
   "id": "25cef52a",
   "metadata": {},
   "outputs": [],
   "source": []
  }
 ],
 "metadata": {
  "kernelspec": {
   "display_name": "mlops_zoomcamp_py310",
   "language": "python",
   "name": "mlops_zoomcamp_py310"
  },
  "language_info": {
   "codemirror_mode": {
    "name": "ipython",
    "version": 3
   },
   "file_extension": ".py",
   "mimetype": "text/x-python",
   "name": "python",
   "nbconvert_exporter": "python",
   "pygments_lexer": "ipython3",
   "version": "3.10.8"
  },
  "toc": {
   "base_numbering": 1,
   "nav_menu": {},
   "number_sections": true,
   "sideBar": true,
   "skip_h1_title": false,
   "title_cell": "Table of Contents",
   "title_sidebar": "Contents",
   "toc_cell": false,
   "toc_position": {},
   "toc_section_display": true,
   "toc_window_display": false
  }
 },
 "nbformat": 4,
 "nbformat_minor": 5
}
