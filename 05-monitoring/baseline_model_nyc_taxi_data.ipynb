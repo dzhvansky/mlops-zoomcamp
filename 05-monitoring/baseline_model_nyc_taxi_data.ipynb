{
 "cells": [
  {
   "cell_type": "markdown",
   "id": "7bf05e7e",
   "metadata": {},
   "source": [
    "# Baseline model for batch monitoring example"
   ]
  },
  {
   "cell_type": "code",
   "execution_count": null,
   "id": "7320039b",
   "metadata": {
    "ExecuteTime": {
     "end_time": "2023-07-07T19:31:04.201798Z",
     "start_time": "2023-07-07T19:31:04.195947Z"
    }
   },
   "outputs": [],
   "source": [
    "import requests\n",
    "import datetime\n",
    "import pandas as pd\n",
    "\n",
    "from evidently import ColumnMapping\n",
    "from evidently.report import Report\n",
    "from evidently.metrics import ColumnDriftMetric, DatasetDriftMetric, DatasetMissingValuesMetric, ColumnQuantileMetric\n",
    "\n",
    "from joblib import load, dump\n",
    "from tqdm import tqdm\n",
    "\n",
    "from sklearn.linear_model import LinearRegression\n",
    "from sklearn.metrics import mean_absolute_error, mean_absolute_percentage_error"
   ]
  },
  {
   "cell_type": "code",
   "execution_count": null,
   "id": "ebcd8eb5",
   "metadata": {
    "ExecuteTime": {
     "end_time": "2023-07-07T18:47:16.216424Z",
     "start_time": "2023-07-07T18:46:56.648941Z"
    }
   },
   "outputs": [],
   "source": [
    "files = [\n",
    "    ('green_tripdata_2023-03.parquet', './data'),\n",
    "#     ('green_tripdata_2022-02.parquet', './data'), \n",
    "#     ('green_tripdata_2022-01.parquet', './data'),\n",
    "]\n",
    "\n",
    "print(\"Download files:\")\n",
    "for file, path in files:\n",
    "    url=f\"https://d37ci6vzurychx.cloudfront.net/trip-data/{file}\"\n",
    "    resp=requests.get(url, stream=True)\n",
    "    save_path=f\"{path}/{file}\"\n",
    "    with open(save_path, \"wb\") as handle:\n",
    "        for data in tqdm(resp.iter_content(),\n",
    "                        desc=f\"{file}\",\n",
    "                        postfix=f\"save to {save_path}\",\n",
    "                        total=int(resp.headers[\"Content-Length\"])):\n",
    "            handle.write(data)"
   ]
  },
  {
   "cell_type": "code",
   "execution_count": null,
   "id": "6735ae38",
   "metadata": {
    "ExecuteTime": {
     "end_time": "2023-07-07T18:47:39.335993Z",
     "start_time": "2023-07-07T18:47:38.913981Z"
    }
   },
   "outputs": [],
   "source": [
    "jan_data = pd.read_parquet('data/green_tripdata_2023-03.parquet')"
   ]
  },
  {
   "cell_type": "code",
   "execution_count": null,
   "id": "29779686",
   "metadata": {
    "ExecuteTime": {
     "end_time": "2023-07-07T18:47:40.202244Z",
     "start_time": "2023-07-07T18:47:40.038341Z"
    }
   },
   "outputs": [],
   "source": [
    "jan_data.describe()"
   ]
  },
  {
   "cell_type": "code",
   "execution_count": null,
   "id": "b44c37b2",
   "metadata": {
    "ExecuteTime": {
     "end_time": "2023-07-07T18:47:41.894181Z",
     "start_time": "2023-07-07T18:47:41.889162Z"
    }
   },
   "outputs": [],
   "source": [
    "jan_data.shape"
   ]
  },
  {
   "cell_type": "code",
   "execution_count": null,
   "id": "f2934d16",
   "metadata": {
    "ExecuteTime": {
     "end_time": "2023-07-07T18:48:24.562630Z",
     "start_time": "2023-07-07T18:48:24.039191Z"
    }
   },
   "outputs": [],
   "source": [
    "# create target\n",
    "jan_data[\"duration_min\"] = jan_data.lpep_dropoff_datetime - jan_data.lpep_pickup_datetime\n",
    "jan_data.duration_min = jan_data.duration_min.apply(lambda td : float(td.total_seconds())/60)"
   ]
  },
  {
   "cell_type": "code",
   "execution_count": null,
   "id": "63210877",
   "metadata": {
    "ExecuteTime": {
     "end_time": "2023-07-07T18:48:37.293957Z",
     "start_time": "2023-07-07T18:48:37.265318Z"
    }
   },
   "outputs": [],
   "source": [
    "# filter out outliers\n",
    "jan_data = jan_data[(jan_data.duration_min >= 0) & (jan_data.duration_min <= 60)]\n",
    "jan_data = jan_data[(jan_data.passenger_count > 0) & (jan_data.passenger_count <= 8)]"
   ]
  },
  {
   "cell_type": "code",
   "execution_count": null,
   "id": "56b31a22",
   "metadata": {
    "ExecuteTime": {
     "end_time": "2023-07-07T18:48:42.878719Z",
     "start_time": "2023-07-07T18:48:39.451690Z"
    }
   },
   "outputs": [],
   "source": [
    "jan_data.duration_min.hist()"
   ]
  },
  {
   "cell_type": "code",
   "execution_count": null,
   "id": "e40dff98",
   "metadata": {
    "ExecuteTime": {
     "end_time": "2023-07-07T18:49:47.424522Z",
     "start_time": "2023-07-07T18:49:47.421227Z"
    }
   },
   "outputs": [],
   "source": [
    "# data labeling\n",
    "target = \"duration_min\"\n",
    "num_features = [\"passenger_count\", \"trip_distance\", \"fare_amount\", \"total_amount\"]\n",
    "cat_features = [\"PULocationID\", \"DOLocationID\"]"
   ]
  },
  {
   "cell_type": "code",
   "execution_count": null,
   "id": "bc0c22a5",
   "metadata": {
    "ExecuteTime": {
     "end_time": "2023-07-07T18:49:47.943960Z",
     "start_time": "2023-07-07T18:49:47.939974Z"
    }
   },
   "outputs": [],
   "source": [
    "jan_data.shape"
   ]
  },
  {
   "cell_type": "code",
   "execution_count": null,
   "id": "05a265a0",
   "metadata": {
    "ExecuteTime": {
     "end_time": "2023-07-07T18:51:27.473031Z",
     "start_time": "2023-07-07T18:51:27.469026Z"
    }
   },
   "outputs": [],
   "source": [
    "train_data = jan_data[:30000]\n",
    "val_data = jan_data[30000:]"
   ]
  },
  {
   "cell_type": "code",
   "execution_count": null,
   "id": "e9fb4fc9",
   "metadata": {
    "ExecuteTime": {
     "end_time": "2023-07-07T18:51:27.959166Z",
     "start_time": "2023-07-07T18:51:27.955995Z"
    }
   },
   "outputs": [],
   "source": [
    "model = LinearRegression()"
   ]
  },
  {
   "cell_type": "code",
   "execution_count": null,
   "id": "0baed5ae",
   "metadata": {
    "ExecuteTime": {
     "end_time": "2023-07-07T18:51:29.064945Z",
     "start_time": "2023-07-07T18:51:29.020869Z"
    }
   },
   "outputs": [],
   "source": [
    "model.fit(train_data[num_features + cat_features], train_data[target])"
   ]
  },
  {
   "cell_type": "code",
   "execution_count": null,
   "id": "c1fa3c38",
   "metadata": {
    "ExecuteTime": {
     "end_time": "2023-07-07T18:51:32.539597Z",
     "start_time": "2023-07-07T18:51:32.531723Z"
    }
   },
   "outputs": [],
   "source": [
    "train_preds = model.predict(train_data[num_features + cat_features])\n",
    "train_data['prediction'] = train_preds"
   ]
  },
  {
   "cell_type": "code",
   "execution_count": null,
   "id": "84293b52",
   "metadata": {
    "ExecuteTime": {
     "end_time": "2023-07-07T18:51:36.230573Z",
     "start_time": "2023-07-07T18:51:36.222715Z"
    }
   },
   "outputs": [],
   "source": [
    "val_preds = model.predict(val_data[num_features + cat_features])\n",
    "val_data['prediction'] = val_preds"
   ]
  },
  {
   "cell_type": "code",
   "execution_count": null,
   "id": "0af9d288",
   "metadata": {
    "ExecuteTime": {
     "end_time": "2023-07-07T18:51:57.344589Z",
     "start_time": "2023-07-07T18:51:57.337535Z"
    }
   },
   "outputs": [],
   "source": [
    "print(mean_absolute_error(train_data.duration_min, train_data.prediction))\n",
    "print(mean_absolute_error(val_data.duration_min, val_data.prediction))"
   ]
  },
  {
   "cell_type": "markdown",
   "id": "fc441899",
   "metadata": {},
   "source": [
    "# Dump model and reference data"
   ]
  },
  {
   "cell_type": "code",
   "execution_count": null,
   "id": "dfb4068b",
   "metadata": {
    "ExecuteTime": {
     "end_time": "2023-07-07T18:53:41.538181Z",
     "start_time": "2023-07-07T18:53:41.478251Z"
    }
   },
   "outputs": [],
   "source": [
    "with open('models/lin_reg.bin', 'wb') as f_out:\n",
    "    dump(model, f_out)"
   ]
  },
  {
   "cell_type": "code",
   "execution_count": null,
   "id": "a1aa065f",
   "metadata": {
    "ExecuteTime": {
     "end_time": "2023-07-07T18:53:41.858828Z",
     "start_time": "2023-07-07T18:53:41.716136Z"
    }
   },
   "outputs": [],
   "source": [
    "val_data.to_parquet('data/reference.parquet')"
   ]
  },
  {
   "cell_type": "markdown",
   "id": "a195b327",
   "metadata": {},
   "source": [
    "# Evidently Report"
   ]
  },
  {
   "cell_type": "code",
   "execution_count": null,
   "id": "56403137",
   "metadata": {
    "ExecuteTime": {
     "end_time": "2023-07-07T18:57:39.072728Z",
     "start_time": "2023-07-07T18:57:39.050960Z"
    }
   },
   "outputs": [],
   "source": [
    "column_mapping = ColumnMapping(\n",
    "    target=None,\n",
    "    prediction='prediction',\n",
    "    numerical_features=num_features,\n",
    "    categorical_features=cat_features\n",
    ")"
   ]
  },
  {
   "cell_type": "code",
   "execution_count": null,
   "id": "36bf31c2",
   "metadata": {
    "ExecuteTime": {
     "end_time": "2023-07-07T19:31:08.374679Z",
     "start_time": "2023-07-07T19:31:08.368826Z"
    }
   },
   "outputs": [],
   "source": [
    "report = Report(metrics=[\n",
    "    ColumnDriftMetric(column_name='prediction'),\n",
    "    DatasetDriftMetric(),\n",
    "    DatasetMissingValuesMetric(),\n",
    "    ColumnDriftMetric(column_name='fare_amount'),\n",
    "    ColumnQuantileMetric(column_name=\"fare_amount\", quantile=0.5),\n",
    "]\n",
    ")"
   ]
  },
  {
   "cell_type": "code",
   "execution_count": null,
   "id": "996eb8b8",
   "metadata": {
    "ExecuteTime": {
     "end_time": "2023-07-07T19:31:20.276515Z",
     "start_time": "2023-07-07T19:31:10.110713Z"
    }
   },
   "outputs": [],
   "source": [
    "report.run(reference_data=train_data, current_data=val_data, column_mapping=column_mapping)"
   ]
  },
  {
   "cell_type": "code",
   "execution_count": null,
   "id": "3e7aaea2",
   "metadata": {
    "ExecuteTime": {
     "end_time": "2023-07-07T19:31:20.740200Z",
     "start_time": "2023-07-07T19:31:20.279766Z"
    },
    "scrolled": false
   },
   "outputs": [],
   "source": [
    "report.show(mode='inline')"
   ]
  },
  {
   "cell_type": "code",
   "execution_count": null,
   "id": "397adec5",
   "metadata": {
    "ExecuteTime": {
     "end_time": "2023-07-07T19:31:20.746070Z",
     "start_time": "2023-07-07T19:31:20.741941Z"
    }
   },
   "outputs": [],
   "source": [
    "result = report.as_dict()"
   ]
  },
  {
   "cell_type": "code",
   "execution_count": null,
   "id": "84c99580",
   "metadata": {
    "ExecuteTime": {
     "end_time": "2023-07-07T19:31:20.763647Z",
     "start_time": "2023-07-07T19:31:20.749066Z"
    },
    "scrolled": true
   },
   "outputs": [],
   "source": [
    "result"
   ]
  },
  {
   "cell_type": "code",
   "execution_count": null,
   "id": "7fa07745",
   "metadata": {
    "ExecuteTime": {
     "end_time": "2023-07-07T18:58:55.430338Z",
     "start_time": "2023-07-07T18:58:55.425887Z"
    }
   },
   "outputs": [],
   "source": [
    "#prediction drift\n",
    "result['metrics'][0]['result']['drift_score']"
   ]
  },
  {
   "cell_type": "code",
   "execution_count": null,
   "id": "e1c8f836",
   "metadata": {
    "ExecuteTime": {
     "end_time": "2023-07-07T18:58:55.903117Z",
     "start_time": "2023-07-07T18:58:55.898659Z"
    }
   },
   "outputs": [],
   "source": [
    "#number of drifted columns\n",
    "result['metrics'][1]['result']['number_of_drifted_columns']"
   ]
  },
  {
   "cell_type": "code",
   "execution_count": null,
   "id": "71c07269",
   "metadata": {
    "ExecuteTime": {
     "end_time": "2023-07-07T18:58:56.742901Z",
     "start_time": "2023-07-07T18:58:56.737904Z"
    }
   },
   "outputs": [],
   "source": [
    "#share of missing values\n",
    "result['metrics'][2]['result']['current']['share_of_missing_values']"
   ]
  },
  {
   "cell_type": "code",
   "execution_count": null,
   "id": "573533d5",
   "metadata": {
    "ExecuteTime": {
     "end_time": "2023-07-07T20:01:12.799175Z",
     "start_time": "2023-07-07T20:01:12.792379Z"
    }
   },
   "outputs": [],
   "source": [
    "#fare_amount drift\n",
    "result['metrics'][3]['result']['drift_score']"
   ]
  },
  {
   "cell_type": "code",
   "execution_count": null,
   "id": "b97614de",
   "metadata": {
    "ExecuteTime": {
     "end_time": "2023-07-07T20:01:48.597152Z",
     "start_time": "2023-07-07T20:01:48.592327Z"
    }
   },
   "outputs": [],
   "source": [
    "#fare_amount drift\n",
    "result['metrics'][4]['result']['current']['value']"
   ]
  },
  {
   "cell_type": "code",
   "execution_count": null,
   "id": "1e5d85c5",
   "metadata": {},
   "outputs": [],
   "source": []
  }
 ],
 "metadata": {
  "kernelspec": {
   "display_name": "mlops_zoomcamp_py310",
   "language": "python",
   "name": "mlops_zoomcamp_py310"
  },
  "language_info": {
   "codemirror_mode": {
    "name": "ipython",
    "version": 3
   },
   "file_extension": ".py",
   "mimetype": "text/x-python",
   "name": "python",
   "nbconvert_exporter": "python",
   "pygments_lexer": "ipython3",
   "version": "3.10.8"
  },
  "toc": {
   "base_numbering": 1,
   "nav_menu": {},
   "number_sections": true,
   "sideBar": true,
   "skip_h1_title": false,
   "title_cell": "Table of Contents",
   "title_sidebar": "Contents",
   "toc_cell": false,
   "toc_position": {},
   "toc_section_display": true,
   "toc_window_display": false
  }
 },
 "nbformat": 4,
 "nbformat_minor": 5
}
