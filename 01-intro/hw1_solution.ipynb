{
 "cells": [
  {
   "cell_type": "code",
   "execution_count": 1,
   "id": "7ef84d48",
   "metadata": {
    "ExecuteTime": {
     "end_time": "2023-05-21T14:24:06.837409Z",
     "start_time": "2023-05-21T14:24:04.276447Z"
    }
   },
   "outputs": [],
   "source": [
    "%load_ext autoreload\n",
    "%autoreload 2\n",
    "\n",
    "import pathlib\n",
    "import pickle\n",
    "\n",
    "import pandas as pd\n",
    "import pyarrow as pa\n",
    "\n",
    "import seaborn as sns\n",
    "import matplotlib.pyplot as plt\n",
    "\n",
    "from sklearn.feature_extraction import DictVectorizer\n",
    "from sklearn.linear_model import LinearRegression\n",
    "from sklearn.linear_model import Lasso\n",
    "from sklearn.linear_model import Ridge\n",
    "\n",
    "from sklearn.metrics import mean_squared_error\n",
    "\n",
    "\n",
    "pd.options.mode.copy_on_write = True"
   ]
  },
  {
   "cell_type": "code",
   "execution_count": 2,
   "id": "d715790b",
   "metadata": {
    "ExecuteTime": {
     "end_time": "2023-05-21T14:24:06.873468Z",
     "start_time": "2023-05-21T14:24:06.840277Z"
    }
   },
   "outputs": [],
   "source": [
    "def read_dataframe(filename):\n",
    "    if filename.endswith('.csv'):\n",
    "        df = pd.read_csv(filename, dtype_backend=\"pyarrow\")\n",
    "\n",
    "        df.tpep_dropoff_datetime = pd.to_datetime(df.tpep_dropoff_datetime)\n",
    "        df.tpep_pickup_datetime = pd.to_datetime(df.tpep_pickup_datetime)\n",
    "    elif filename.endswith('.parquet'):\n",
    "        df = pd.read_parquet(filename, dtype_backend=\"pyarrow\")\n",
    "        \n",
    "    print(len(df.columns))\n",
    "\n",
    "    df['duration'] = df.tpep_dropoff_datetime - df.tpep_pickup_datetime\n",
    "    df.duration = df.duration.apply(lambda td: td.total_seconds() / 60)\n",
    "    print(df.duration.std())\n",
    "    \n",
    "    mask = (df.duration >= 1) & (df.duration <= 60)\n",
    "    print(mask.sum() /len(mask))\n",
    "    \n",
    "    df = df[mask]\n",
    "\n",
    "    categorical = ['PULocationID', 'DOLocationID']\n",
    "    df[categorical] = df[categorical].astype(\"str[pyarrow]\")\n",
    "    \n",
    "    return df"
   ]
  },
  {
   "cell_type": "code",
   "execution_count": 3,
   "id": "dd318a46",
   "metadata": {
    "ExecuteTime": {
     "end_time": "2023-05-21T14:24:06.916918Z",
     "start_time": "2023-05-21T14:24:06.876240Z"
    }
   },
   "outputs": [],
   "source": [
    "categorical = ['PULocationID', 'DOLocationID']\n",
    "target = \"duration\""
   ]
  },
  {
   "cell_type": "code",
   "execution_count": 4,
   "id": "a51f8121",
   "metadata": {
    "ExecuteTime": {
     "end_time": "2023-05-21T14:24:25.572439Z",
     "start_time": "2023-05-21T14:24:06.922245Z"
    }
   },
   "outputs": [
    {
     "name": "stdout",
     "output_type": "stream",
     "text": [
      "19\n",
      "46.44530513776802\n",
      "0.9827547930522406\n",
      "19\n",
      "47.26394076778834\n",
      "0.979444397269143\n"
     ]
    }
   ],
   "source": [
    "df_train = read_dataframe('./data/yellow_tripdata_2022-01.parquet')\n",
    "df_val = read_dataframe('./data/yellow_tripdata_2022-02.parquet')"
   ]
  },
  {
   "cell_type": "code",
   "execution_count": 5,
   "id": "93a1de6c",
   "metadata": {
    "ExecuteTime": {
     "end_time": "2023-05-21T14:24:41.306898Z",
     "start_time": "2023-05-21T14:24:25.574111Z"
    }
   },
   "outputs": [],
   "source": [
    "dv = DictVectorizer()\n",
    "\n",
    "train_dicts = df_train[categorical].to_dict(orient='records')\n",
    "X_train = dv.fit_transform(train_dicts)\n",
    "\n",
    "y_train = df_train[target].values"
   ]
  },
  {
   "cell_type": "code",
   "execution_count": 6,
   "id": "e2c38741",
   "metadata": {
    "ExecuteTime": {
     "end_time": "2023-05-21T14:24:41.336721Z",
     "start_time": "2023-05-21T14:24:41.308470Z"
    }
   },
   "outputs": [
    {
     "data": {
      "text/plain": [
       "515"
      ]
     },
     "execution_count": 6,
     "metadata": {},
     "output_type": "execute_result"
    }
   ],
   "source": [
    "X_train.shape[1]"
   ]
  },
  {
   "cell_type": "code",
   "execution_count": 7,
   "id": "8a55e940",
   "metadata": {
    "ExecuteTime": {
     "end_time": "2023-05-21T14:25:07.744346Z",
     "start_time": "2023-05-21T14:24:41.338255Z"
    }
   },
   "outputs": [
    {
     "data": {
      "text/plain": [
       "6.9861908315536585"
      ]
     },
     "execution_count": 7,
     "metadata": {},
     "output_type": "execute_result"
    }
   ],
   "source": [
    "lr = LinearRegression()\n",
    "lr.fit(X_train, y_train)\n",
    "\n",
    "y_pred = lr.predict(X_train)\n",
    "\n",
    "mean_squared_error(y_train, y_pred, squared=False)"
   ]
  },
  {
   "cell_type": "code",
   "execution_count": 8,
   "id": "15a99b6f",
   "metadata": {
    "ExecuteTime": {
     "end_time": "2023-05-21T14:25:31.600372Z",
     "start_time": "2023-05-21T14:25:07.748006Z"
    }
   },
   "outputs": [],
   "source": [
    "val_dicts = df_val[categorical].to_dict(orient='records')\n",
    "X_val = dv.transform(val_dicts)\n",
    "\n",
    "y_val = df_val[target].values"
   ]
  },
  {
   "cell_type": "code",
   "execution_count": 9,
   "id": "064d9f17",
   "metadata": {
    "ExecuteTime": {
     "end_time": "2023-05-21T14:25:31.691611Z",
     "start_time": "2023-05-21T14:25:31.603122Z"
    }
   },
   "outputs": [
    {
     "data": {
      "text/plain": [
       "7.786409148550689"
      ]
     },
     "execution_count": 9,
     "metadata": {},
     "output_type": "execute_result"
    }
   ],
   "source": [
    "y_pred = lr.predict(X_val)\n",
    "\n",
    "mean_squared_error(y_val, y_pred, squared=False)"
   ]
  },
  {
   "cell_type": "code",
   "execution_count": null,
   "id": "295e98f2",
   "metadata": {},
   "outputs": [],
   "source": []
  }
 ],
 "metadata": {
  "kernelspec": {
   "display_name": "mlops_zoomcamp_py310",
   "language": "python",
   "name": "mlops_zoomcamp_py310"
  },
  "language_info": {
   "codemirror_mode": {
    "name": "ipython",
    "version": 3
   },
   "file_extension": ".py",
   "mimetype": "text/x-python",
   "name": "python",
   "nbconvert_exporter": "python",
   "pygments_lexer": "ipython3",
   "version": "3.10.8"
  },
  "toc": {
   "base_numbering": 1,
   "nav_menu": {},
   "number_sections": true,
   "sideBar": true,
   "skip_h1_title": false,
   "title_cell": "Table of Contents",
   "title_sidebar": "Contents",
   "toc_cell": false,
   "toc_position": {},
   "toc_section_display": true,
   "toc_window_display": false
  }
 },
 "nbformat": 4,
 "nbformat_minor": 5
}
